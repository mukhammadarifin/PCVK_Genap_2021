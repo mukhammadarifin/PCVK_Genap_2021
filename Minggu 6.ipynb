{
  "nbformat": 4,
  "nbformat_minor": 0,
  "metadata": {
    "colab": {
      "name": "Minggu 1.ipynb",
      "provenance": [],
      "authorship_tag": "ABX9TyMLqmimMefjEpMIrb0lviQd",
      "include_colab_link": true
    },
    "kernelspec": {
      "name": "python3",
      "display_name": "Python 3"
    }
  },
  "cells": [
    {
      "cell_type": "markdown",
      "metadata": {
        "id": "view-in-github",
        "colab_type": "text"
      },
      "source": [
        "<a href=\"https://colab.research.google.com/github/mukhammadarifin/PCVK_Genap_2021/blob/main/Minggu%206.ipynb\" target=\"_parent\"><img src=\"https://colab.research.google.com/assets/colab-badge.svg\" alt=\"Open In Colab\"/></a>"
      ]
    },
    {
      "cell_type": "markdown",
      "metadata": {
        "id": "D6EzUCyx6KtN"
      },
      "source": [
        "# TUGAS PRAKTIKUM"
      ]
    },
    {
      "cell_type": "markdown",
      "metadata": {
        "id": "b8KXBK9f6C0g"
      },
      "source": [
        "1. Buka https://colab.research.google.com/. Setelah dipastikan bahwa google Colab\r\n",
        "terhubung dengan Github Anda, lanjutkan dengan memilih repository yang telah\r\n",
        "digunakan pada praktikum minggu lalu, rename file menjadi “Week6.ipynb”. \r\n",
        "  \r\n",
        "  Kemudian import folder yang ada di Drive Anda dengan cara sebagai berikut. "
      ]
    },
    {
      "cell_type": "code",
      "metadata": {
        "id": "R5iZgIXj3cs7",
        "outputId": "21de650a-480d-4bdd-ac62-14d926686c99",
        "colab": {
          "base_uri": "https://localhost:8080/"
        }
      },
      "source": [
        "from google.colab import drive\r\n",
        "\r\n",
        "drive.mount('/content/drive')"
      ],
      "execution_count": 1,
      "outputs": [
        {
          "output_type": "stream",
          "text": [
            "Mounted at /content/drive\n"
          ],
          "name": "stdout"
        }
      ]
    }
  ]
}