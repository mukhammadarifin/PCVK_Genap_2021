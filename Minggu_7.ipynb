{
  "nbformat": 4,
  "nbformat_minor": 0,
  "metadata": {
    "colab": {
      "name": "Minggu 7.ipynb",
      "provenance": [],
      "collapsed_sections": [],
      "authorship_tag": "ABX9TyPtqGTKtBa0uFt+yE1UIgL5",
      "include_colab_link": true
    },
    "kernelspec": {
      "name": "python3",
      "display_name": "Python 3"
    },
    "language_info": {
      "name": "python"
    }
  },
  "cells": [
    {
      "cell_type": "markdown",
      "metadata": {
        "id": "view-in-github",
        "colab_type": "text"
      },
      "source": [
        "<a href=\"https://colab.research.google.com/github/mukhammadarifin/PCVK_Genap_2021/blob/main/Minggu_7.ipynb\" target=\"_parent\"><img src=\"https://colab.research.google.com/assets/colab-badge.svg\" alt=\"Open In Colab\"/></a>"
      ]
    },
    {
      "cell_type": "markdown",
      "metadata": {
        "id": "jqyumhfj0vz7"
      },
      "source": [
        "# PRAKTIKUM FILTER\n",
        "\n",
        "1. Buatlah fungsi konvolusi menggunakan algoritma yang telah dijelaskan pada Bagian C, tanpa \n",
        "menggunakan library atau metode konvolusi dari OpenCV.\n",
        "\n",
        "2. Berikut merupakan langkah-langkah yang dapat dilakukan:\n",
        "\n",
        " a. Buat notebook baru pada google colab, dan beri nama Week7.ipynb. Simpan Salinan\n",
        "pada akun github seperti pada modul sebelumnya.\n",
        "\n",
        "  b. Akses file yang terdapat pada drive dan import beberapa library yang dibutuhkan"
      ]
    },
    {
      "cell_type": "code",
      "metadata": {
        "colab": {
          "base_uri": "https://localhost:8080/"
        },
        "id": "ruTkq_-wz9W6",
        "outputId": "27eaab90-1a84-4b42-fbab-8107f8ad23c2"
      },
      "source": [
        "from google.colab import drive\n",
        "\n",
        "drive.mount('/content/drive')"
      ],
      "execution_count": null,
      "outputs": [
        {
          "output_type": "stream",
          "text": [
            "Mounted at /content/drive\n"
          ],
          "name": "stdout"
        }
      ]
    },
    {
      "cell_type": "code",
      "metadata": {
        "id": "i9DvSu3p0vVA"
      },
      "source": [
        ""
      ],
      "execution_count": null,
      "outputs": []
    }
  ]
}