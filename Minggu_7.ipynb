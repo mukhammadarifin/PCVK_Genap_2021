{
  "nbformat": 4,
  "nbformat_minor": 0,
  "metadata": {
    "colab": {
      "name": "Minggu 7.ipynb",
      "provenance": [],
      "collapsed_sections": [],
      "mount_file_id": "https://github.com/mukhammadarifin/PCVK_Genap_2021/blob/main/Minggu_7.ipynb",
      "authorship_tag": "ABX9TyNHG78udho3DOfiJKvBHkRv",
      "include_colab_link": true
    },
    "kernelspec": {
      "name": "python3",
      "display_name": "Python 3"
    },
    "language_info": {
      "name": "python"
    }
  },
  "cells": [
    {
      "cell_type": "markdown",
      "metadata": {
        "id": "view-in-github",
        "colab_type": "text"
      },
      "source": [
        "<a href=\"https://colab.research.google.com/github/mukhammadarifin/PCVK_Genap_2021/blob/main/Minggu_7.ipynb\" target=\"_parent\"><img src=\"https://colab.research.google.com/assets/colab-badge.svg\" alt=\"Open In Colab\"/></a>"
      ]
    },
    {
      "cell_type": "markdown",
      "metadata": {
        "id": "jqyumhfj0vz7"
      },
      "source": [
        "# PRAKTIKUM FILTER\n",
        "\n",
        "1. Buatlah fungsi konvolusi menggunakan algoritma yang telah dijelaskan pada Bagian C, tanpa \n",
        "menggunakan library atau metode konvolusi dari OpenCV.\n",
        "\n",
        "2. Berikut merupakan langkah-langkah yang dapat dilakukan:\n",
        "\n",
        "  - Buat notebook baru pada google colab, dan beri nama Week7.ipynb. Simpan Salinan\n",
        "pada akun github seperti pada modul sebelumnya.\n",
        "\n",
        "  - Akses file yang terdapat pada drive dan import beberapa library yang dibutuhkan\n",
        "\n",
        "  - Buatlah fungsi konvolusi. Catatan: parameter yang digunakan boleh dimodifikasi. \n",
        "Misal, hanya menggunakan parameter image dan kernel saja, atau image, kernel, dan \n",
        "padding.\n",
        "\n",
        "  - Load citra yang akan diproses dan ubah menjadi citra keabuan\n",
        "\n",
        "  - Tentukan kernel yang akan digunakan, contohnya kernel untuk filter sharpening \n",
        "sebagai berikut\n",
        "\n",
        "  - Memanggil fungsi konvolusi yang telah dibuat sebelumnya, dan menampilkan hasil konvolusinya"
      ]
    },
    {
      "cell_type": "code",
      "metadata": {
        "colab": {
          "base_uri": "https://localhost:8080/"
        },
        "id": "ruTkq_-wz9W6",
        "outputId": "27eaab90-1a84-4b42-fbab-8107f8ad23c2"
      },
      "source": [
        "from google.colab import drive\n",
        "\n",
        "drive.mount('/content/drive')"
      ],
      "execution_count": null,
      "outputs": [
        {
          "output_type": "stream",
          "text": [
            "Mounted at /content/drive\n"
          ],
          "name": "stdout"
        }
      ]
    },
    {
      "cell_type": "code",
      "metadata": {
        "id": "i9DvSu3p0vVA"
      },
      "source": [
        "import numpy as np\n",
        "import matplotlib.pyplot as plt\n",
        "import cv2 as cv\n",
        "import math\n",
        "from google.colab.patches import cv2_imshow\n",
        "from PIL import Image as im"
      ],
      "execution_count": 2,
      "outputs": []
    },
    {
      "cell_type": "code",
      "metadata": {
        "id": "K46AqDAa3BO9"
      },
      "source": [
        "def convolution2D(image, kernel, stride, padding):\n",
        "  image = np.pad(image, padding, mode='constant', nilai_constant=0)\n",
        "\n",
        "  t_kernel, l_kernel = kernel.shape\n",
        "  t_pad, l_pad = image.shape\n",
        "\n",
        "  t_op = (t_pad - t_kernel) // stride + 1\n",
        "  l_op = (l_pad - l_kernel) // stride + 1\n",
        "\n",
        "  image_anyar = np.zeros(t_op, l_op).astype(np.float32)\n",
        "\n",
        "  for y in range(0, t_op):\n",
        "    for x in range(0, l_op):\n",
        "      image_anyar[y][x] = np.sum(image[y * stride:y * stride + t_kernel, x * stride:x * stride + l_kernel] * kernel).astype(np.float32)\n",
        "  return image_anyar"
      ],
      "execution_count": 8,
      "outputs": []
    },
    {
      "cell_type": "code",
      "metadata": {
        "id": "Ti81--Ki6c-l"
      },
      "source": [
        "img = cv.imread('/content/drive/MyDrive/image/kuciang oren.jpg')\n",
        "abu_img = cv.cvtColor(img, cv.COLOR_BGR2GRAY)"
      ],
      "execution_count": 9,
      "outputs": []
    },
    {
      "cell_type": "code",
      "metadata": {
        "id": "5Gz2-EQr7hNR"
      },
      "source": [
        "# image sharpen\n",
        "kernel_sharpen = np.array([[ 0, -1,  0],\n",
        "                           [-1,  5, -1],\n",
        "                           [ 0, -1,  0]])\n",
        "\n",
        "# emboss\n",
        "kernel_emboss = np.array([[-2, -1,  0],\n",
        "                          [-1,  1,  1],\n",
        "                          [ 0,  1,  2]])\n",
        "\n",
        "\n",
        "# left sobel edge detection\n",
        "kernal_sobel = np.array([[1,  0,  -1],\n",
        "                         [2,  0,  -2],\n",
        "                         [1,  0,  -1]])\n",
        "\n",
        "\n",
        "# canny edge detection\n",
        "kernal_canny = np.array([[-1, -1, -1],\n",
        "                         [-1,  8, -1],\n",
        "                         [-1, -1, -1]])\n",
        "\n",
        "\n",
        "# 21x21 Gaussian Blur\n",
        "ukuran_kernel = 21\n",
        "sigma = math.sqrt(ukuran_kernel)\n",
        "gaussian_kernel = cv.getGaussianKernel(ukuran_kernel, sigma)\n",
        "gauss_kernel = gaussian_kernel @ gaussian_kernel.transpose()\n"
      ],
      "execution_count": null,
      "outputs": []
    }
  ]
}