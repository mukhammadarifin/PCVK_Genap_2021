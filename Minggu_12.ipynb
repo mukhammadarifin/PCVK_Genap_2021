{
  "nbformat": 4,
  "nbformat_minor": 0,
  "metadata": {
    "colab": {
      "name": "Minggu 12.ipynb",
      "provenance": [],
      "authorship_tag": "ABX9TyMaaAMj1fG/1F9WrtIkF5Zy",
      "include_colab_link": true
    },
    "kernelspec": {
      "name": "python3",
      "display_name": "Python 3"
    },
    "language_info": {
      "name": "python"
    }
  },
  "cells": [
    {
      "cell_type": "markdown",
      "metadata": {
        "id": "view-in-github",
        "colab_type": "text"
      },
      "source": [
        "<a href=\"https://colab.research.google.com/github/mukhammadarifin/PCVK_Genap_2021/blob/main/Minggu_12.ipynb\" target=\"_parent\"><img src=\"https://colab.research.google.com/assets/colab-badge.svg\" alt=\"Open In Colab\"/></a>"
      ]
    },
    {
      "cell_type": "markdown",
      "metadata": {
        "id": "DsP5-ktaYKZL"
      },
      "source": [
        "# Minggu 12\n",
        "\n",
        "1.  Buka https://colab.research.google.com/. Setelah dipastikan bahwa google Colab \n",
        "terhubung dengan Github Anda, buat notebook baru dan beri nama “Week12.ipynb”. \n",
        "Kemudian import beberapa library dan akses folder yang ada di Drive Anda dengan \n",
        "seperti biasa. \n",
        "\n",
        "2.  Lakukan Face Detection untuk image object lain yang tersedia pada (/images/facedet). \n",
        "Tampilkan seperti pada contoh berikut. "
      ]
    },
    {
      "cell_type": "code",
      "metadata": {
        "id": "0vrvqOFQXCgR",
        "outputId": "f3412a52-9369-4a50-fc12-1683cd1f113a",
        "colab": {
          "base_uri": "https://localhost:8080/"
        }
      },
      "source": [
        "from google.colab import drive\n",
        "drive.mount('/content/drive')"
      ],
      "execution_count": 1,
      "outputs": [
        {
          "output_type": "stream",
          "text": [
            "Mounted at /content/drive\n"
          ],
          "name": "stdout"
        }
      ]
    }
  ]
}