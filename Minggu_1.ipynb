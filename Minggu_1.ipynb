{
  "nbformat": 4,
  "nbformat_minor": 0,
  "metadata": {
    "colab": {
      "name": "Minggu 1.ipynb",
      "provenance": [],
      "authorship_tag": "ABX9TyOAGPodwy+lfNafWe2yl4lg",
      "include_colab_link": true
    },
    "kernelspec": {
      "name": "python3",
      "display_name": "Python 3"
    }
  },
  "cells": [
    {
      "cell_type": "markdown",
      "metadata": {
        "id": "view-in-github",
        "colab_type": "text"
      },
      "source": [
        "<a href=\"https://colab.research.google.com/github/mukhammadarifin/PCVK_Genap_2021/blob/main/Minggu_1.ipynb\" target=\"_parent\"><img src=\"https://colab.research.google.com/assets/colab-badge.svg\" alt=\"Open In Colab\"/></a>"
      ]
    },
    {
      "cell_type": "markdown",
      "metadata": {
        "id": "5EIJoMIvjxpy"
      },
      "source": [
        "# Langkah (step) 1:\r\n",
        "\r\n",
        "Pada code awal, beberapa library yang akan digunakan adalah: **numpy**, **pandas**, **cv2**, **skimage**, **PIL**, **matplotlib**\r\n",
        "\r\n",
        "**--Bahasa--**\r\n",
        "\r\n",
        "**--English--**\r\n",
        "\r\n",
        "\r\n",
        "\r\n",
        "*   [Numpy](https://www.w3schools.com/python/numpy_intro.asp) is a Python library used for working with arrays.\r\n",
        "*   [Pandas](https://www.w3schools.com/python/pandas_tutorial.asp) is a Python library used for working with data sets.\r\n",
        "\r\n"
      ]
    }
  ]
}