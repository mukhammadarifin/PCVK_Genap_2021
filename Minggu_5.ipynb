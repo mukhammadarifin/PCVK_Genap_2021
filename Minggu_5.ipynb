{
  "nbformat": 4,
  "nbformat_minor": 0,
  "metadata": {
    "colab": {
      "name": "Minggu 5.ipynb",
      "provenance": [],
      "authorship_tag": "ABX9TyPWOK+KiBN/wKN6dZoRfhlB",
      "include_colab_link": true
    },
    "kernelspec": {
      "name": "python3",
      "display_name": "Python 3"
    }
  },
  "cells": [
    {
      "cell_type": "markdown",
      "metadata": {
        "id": "view-in-github",
        "colab_type": "text"
      },
      "source": [
        "<a href=\"https://colab.research.google.com/github/mukhammadarifin/PCVK_Genap_2021/blob/main/Minggu_5.ipynb\" target=\"_parent\"><img src=\"https://colab.research.google.com/assets/colab-badge.svg\" alt=\"Open In Colab\"/></a>"
      ]
    },
    {
      "cell_type": "markdown",
      "metadata": {
        "id": "jDnpUlAI0ZOj"
      },
      "source": [
        "# TUGAS PRAKTIKUM\r\n",
        "\r\n",
        "Catatan: Untuk gambar pada praktikum ini menggunakan gambar pada link berikut:\r\n",
        "https://drive.google.com/drive/folders/1eWYY3TSgccOrtOB6AYU5cFSw9WvCrS78?usp=sharing\r\n"
      ]
    },
    {
      "cell_type": "code",
      "metadata": {
        "id": "IslzsTK3z_5B"
      },
      "source": [
        ""
      ],
      "execution_count": null,
      "outputs": []
    }
  ]
}