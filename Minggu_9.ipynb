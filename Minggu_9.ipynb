{
  "nbformat": 4,
  "nbformat_minor": 0,
  "metadata": {
    "colab": {
      "name": "Minggu 9.ipynb",
      "provenance": [],
      "authorship_tag": "ABX9TyOO4RkbwVgW2zv4RJokX2lO",
      "include_colab_link": true
    },
    "kernelspec": {
      "name": "python3",
      "display_name": "Python 3"
    },
    "language_info": {
      "name": "python"
    }
  },
  "cells": [
    {
      "cell_type": "markdown",
      "metadata": {
        "id": "view-in-github",
        "colab_type": "text"
      },
      "source": [
        "<a href=\"https://colab.research.google.com/github/mukhammadarifin/PCVK_Genap_2021/blob/main/Minggu_9.ipynb\" target=\"_parent\"><img src=\"https://colab.research.google.com/assets/colab-badge.svg\" alt=\"Open In Colab\"/></a>"
      ]
    },
    {
      "cell_type": "markdown",
      "metadata": {
        "id": "MQmwzeRpBHR8"
      },
      "source": [
        "# MODUL 9 – Morfologi "
      ]
    },
    {
      "cell_type": "markdown",
      "metadata": {
        "id": "ME7u4ShRBQ5Q"
      },
      "source": [
        "## TUGAS PRAKTIKUM"
      ]
    },
    {
      "cell_type": "markdown",
      "metadata": {
        "id": "mVXcLU7k-eE0"
      },
      "source": [
        "1. Buka https://colab.research.google.com/. Setelah dipastikan bahwa google Colab terhubung dengan Github Anda, buat notebook baru dan beri nama “Week9.ipynb”. Kemudian import folder yang ada di Drive Anda dengan cara sebagai berikut. \n"
      ]
    },
    {
      "cell_type": "code",
      "metadata": {
        "colab": {
          "base_uri": "https://localhost:8080/"
        },
        "id": "oSglvHDU3HTT",
        "outputId": "4c0b4bc3-aeaf-4931-844a-196e46fbbda9"
      },
      "source": [
        "from google.colab import drive\n",
        "drive.mount('/content/drive')"
      ],
      "execution_count": 1,
      "outputs": [
        {
          "output_type": "stream",
          "text": [
            "Mounted at /content/drive\n"
          ],
          "name": "stdout"
        }
      ]
    },
    {
      "cell_type": "markdown",
      "metadata": {
        "id": "-s23kVNzBibU"
      },
      "source": [
        "2. Import beberapa library berikut yang akan digunakan selama uji coba praktikum \n",
        "minggu ke-6 berikut. "
      ]
    },
    {
      "cell_type": "code",
      "metadata": {
        "colab": {
          "base_uri": "https://localhost:8080/",
          "height": 286
        },
        "id": "GcfMqgqQBmea",
        "outputId": "23045919-476c-4d05-d125-518b3b14dea5"
      },
      "source": [
        "import cv2\n",
        "import numpy as np\n",
        "from matplotlib import pyplot as plt\n",
        "\n",
        "img = cv2.imread('/content/drive/MyDrive/image/j.png')\n",
        "plt.imshow(img)"
      ],
      "execution_count": 2,
      "outputs": [
        {
          "output_type": "execute_result",
          "data": {
            "text/plain": [
              "<matplotlib.image.AxesImage at 0x7fb8dbaa0e10>"
            ]
          },
          "metadata": {
            "tags": []
          },
          "execution_count": 2
        },
        {
          "output_type": "display_data",
          "data": {
            "image/png": "[encoded data removed]",
            "text/plain": [
              "<Figure size 432x288 with 1 Axes>"
            ]
          },
          "metadata": {
            "tags": [],
            "needs_background": "light"
          }
        }
      ]
    },
    {
      "cell_type": "markdown",
      "metadata": {
        "id": "wLeSqpP5D-94"
      },
      "source": [
        "3. Buatlah fungsi dilasi serta tampilkan hasil dilasi pada citra dengan Structuring Element \n",
        "Dilasi (SED) berbentuk square 5 x 5 tanpa menggunakan library morphology dari \n",
        "openCV, sehingga menghasilkan tampilan seperti di bawah ini: (Gunakan gambar \n",
        "j.png) "
      ]
    },
    {
      "cell_type": "code",
      "metadata": {
        "colab": {
          "base_uri": "https://localhost:8080/",
          "height": 319
        },
        "id": "UHfinWdAEDtO",
        "outputId": "da553b65-6b4a-4dc4-d4fb-c9116fe9937b"
      },
      "source": [
        "kernel = np.ones((5,5), np.uint8)\n",
        "dilation = cv2.morphologyEx(img, cv2.MORPH_DILATE, kernel)\n",
        "\n",
        "plt.subplot(121), plt.imshow(img), plt.title('Citra Awal')\n",
        "plt.subplot(122), plt.imshow(dilation), plt.title('Citra Hasil Dilasi')"
      ],
      "execution_count": 3,
      "outputs": [
        {
          "output_type": "execute_result",
          "data": {
            "text/plain": [
              "(<matplotlib.axes._subplots.AxesSubplot at 0x7fb8db529790>,\n",
              " <matplotlib.image.AxesImage at 0x7fb8db504110>,\n",
              " Text(0.5, 1.0, 'Citra Hasil Dilasi'))"
            ]
          },
          "metadata": {
            "tags": []
          },
          "execution_count": 3
        },
        {
          "output_type": "display_data",
          "data": {
            "image/png": "[encoded data removed]",
            "text/plain": [
              "<Figure size 432x288 with 2 Axes>"
            ]
          },
          "metadata": {
            "tags": [],
            "needs_background": "light"
          }
        }
      ]
    }
  ]
}